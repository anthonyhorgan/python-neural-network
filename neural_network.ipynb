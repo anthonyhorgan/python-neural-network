{
  "cells": [
    {
      "cell_type": "markdown",
      "source": [
        "**Deep Learning Assignment 1**:\n",
        "Student name: Anthony Horgan  \n",
        "id: 17452572  \n",
        "All descriptions and code is taken from the lecture notes."
      ],
      "metadata": {
        "id": "tn7IovhKkEbS"
      },
      "id": "tn7IovhKkEbS"
    },
    {
      "cell_type": "code",
      "execution_count": 5,
      "id": "12afcc5e-787a-4af6-8bfa-7d3a70cd254a",
      "metadata": {
        "id": "12afcc5e-787a-4af6-8bfa-7d3a70cd254a"
      },
      "outputs": [],
      "source": [
        "# Package imports\n",
        "import matplotlib\n",
        "import matplotlib.pyplot as plt\n",
        "import sklearn\n",
        "import sklearn.datasets\n",
        "import pandas as pd\n",
        "import numpy as np\n",
        "import cupy as cp\n",
        "import pickle\n",
        "\n",
        "# Display plots inline and change default figure size\n",
        "%matplotlib inline"
      ]
    },
    {
      "cell_type": "code",
      "source": [
        "from google.colab import drive\n",
        "import os\n",
        "drive.mount('/content/drive')\n",
        "circles_fname = \"/content/drive/MyDrive/Colab Notebooks/dl_assignment1/circles600.csv\"\n",
        "blobs_fname = \"/content/drive/MyDrive/Colab Notebooks/dl_assignment1/blobs300.csv\""
      ],
      "metadata": {
        "colab": {
          "base_uri": "https://localhost:8080/"
        },
        "id": "xZlfdc6E9Tsw",
        "outputId": "5fa903ab-5340-4d7f-eb5c-88e1e1ca90dd"
      },
      "id": "xZlfdc6E9Tsw",
      "execution_count": 6,
      "outputs": [
        {
          "output_type": "stream",
          "name": "stdout",
          "text": [
            "Drive already mounted at /content/drive; to attempt to forcibly remount, call drive.mount(\"/content/drive\", force_remount=True).\n"
          ]
        }
      ]
    },
    {
      "cell_type": "markdown",
      "id": "05f53574-f981-4c61-9972-2491f30814bc",
      "metadata": {
        "id": "05f53574-f981-4c61-9972-2491f30814bc"
      },
      "source": [
        "**Part 1: Logistic Regression**  \n",
        "This is an implementation of logistic regression to create a binary classification model. Logistic regression is a simple classification algorithm.  \n",
        "Logistic regression consists of a learnable linear function followed by a non-linear activation function (sigmoid).  \n",
        "For each attribute in the input data (independent variables), there is a trainable weight parameter (which is just a number). We multiply each input value with its corresponding weight, sum them all together and add a bias (bias is another trainable parameter). This result then gets fed through the sigmoid function to produce a value in the range [0, 1]. During the learning phase, a random input from the training set is chosen, the output is calculated, the log loss is used to calculate the difference between the output of logistic regression, the weights and bias parameters are then updated using stochastic gradient descent. (The weight and bias values are updated according to the derivative of the loss function with respect the weight and bias values multiplied by a learning rate)"
      ]
    },
    {
      "cell_type": "code",
      "execution_count": 8,
      "id": "5213ee3b-3e53-47db-a025-121709724650",
      "metadata": {
        "id": "5213ee3b-3e53-47db-a025-121709724650"
      },
      "outputs": [],
      "source": [
        "epsilon = 1e-8\n",
        "def sigmoid(x):\n",
        "    return 1 / (1 + np.exp(-x))\n",
        "\n",
        "\n",
        "def log_loss(y_hat, y):\n",
        "    # add epsilon to avoid log(0)\n",
        "    return - np.mean(y * np.log(y_hat + epsilon) + (1 - y) * np.log(1 - y_hat + epsilon))"
      ]
    },
    {
      "cell_type": "code",
      "execution_count": 9,
      "id": "7dac439d-ed1e-4603-b666-ab1047c6c40c",
      "metadata": {
        "id": "7dac439d-ed1e-4603-b666-ab1047c6c40c"
      },
      "outputs": [],
      "source": [
        "# function to handle loading and sampling of data as well as storing and printing loss and accuracy \n",
        "def train(net, n_iter, train_set=None, val_set=None, evaluate_inter=1000, verbose=True):\n",
        "    '''\n",
        "    trains a classifier\n",
        "            Parameters:\n",
        "                    net: classifier to train. net must have forward(x) method and train_step(x, y) method\n",
        "                    train_set : tuple of (input_data, input_labels). Used to train net\n",
        "                    val_set: tuple of (input_data, input_labels). optional. Used to evaluate net.\n",
        "                    evaluate_inter: (int), loss and accuracy scores will be caulated on train_set and val_set every evaluate_inter iterations\n",
        "                    verbose: (bool) whether to print out loss and accuracy scores throughout training\n",
        "\n",
        "            Returns:\n",
        "                    train_loss_list, val_loss_list: lists of loss scores from every evaluation throughout training\n",
        "    '''\n",
        "    if verbose:\n",
        "        print(\"starting training\")\n",
        "        print(f\"iter\\ttrain loss\\ttrain acc\\tval loss\\tval acc\")\n",
        "    X_train, y_train = train_set\n",
        "    X_val = y_val = None\n",
        "    if val_set:\n",
        "        X_val, y_val = val_set\n",
        "    # lists which are used to store loss values from each evaluation step throughout training\n",
        "    train_loss_list = []\n",
        "    val_loss_list = []\n",
        "    n_samples = X_train.shape[0]\n",
        "    for iteration in range(n_iter):\n",
        "        # get random sample\n",
        "        sample_idx = np.random.choice(np.arange(n_samples))\n",
        "        # forward step\n",
        "        x_single, y_single = X_train[sample_idx], y_train[sample_idx]\n",
        "        # backward step\n",
        "        net.train_step(x_single, y_single)\n",
        "        \n",
        "        if iteration % evaluate_inter == 0:\n",
        "            # every set amount of iterations, compute loss and accuracy on train and val set\n",
        "            # get classifier output\n",
        "            out = net(X_train)\n",
        "            # get loss on entire set\n",
        "            train_loss = log_loss(out, y_train)\n",
        "            train_loss_list.append(train_loss)\n",
        "            # get accuracy on entire set\n",
        "            preds = out > 0.5\n",
        "            train_acc = np.sum(np.squeeze(preds) == y_train)/X_train.shape[0]\n",
        "            val_loss = None\n",
        "            val_acc = None\n",
        "            # if val set is given, compute loss and accuracy on val set\n",
        "            if val_set:\n",
        "                # get classifier output\n",
        "                out = net(X_val)\n",
        "                # get loss on entire set\n",
        "                val_loss = log_loss(out, y_val)\n",
        "                # get accuracy on entire set\n",
        "                preds = out > 0.5\n",
        "                val_acc = np.sum(np.squeeze(preds) == y_val)/X_val.shape[0]\n",
        "                val_loss_list.append(val_loss)\n",
        "                \n",
        "                # print loss and accuracy\n",
        "                if verbose:\n",
        "                    print(f\"{iteration:<6}\\t{train_loss:.4f}\\t\\t{train_acc:.4f}\\t\\t{val_loss:.4f}\\t\\t{val_acc:.4f}\")\n",
        "            elif verbose:\n",
        "                print(f\"{iteration:<6}\\t{train_loss:.4f}\\t\\t{train_acc:.4f}\")\n",
        "            \n",
        "    return train_loss_list, val_loss_list"
      ]
    },
    {
      "cell_type": "markdown",
      "id": "483e3d8a-2a2f-426a-9f99-b9ca715bc625",
      "metadata": {
        "id": "483e3d8a-2a2f-426a-9f99-b9ca715bc625"
      },
      "source": [
        "Each of the classifiers has a forward method to handle forward propagation and a train_step function to handle backward propagation (because backprop is handled in network object, optimization parameters need to be passed to init).  \n",
        "Each of the classifiers can handle an arbitrary number of on the forward pass but not on the backward pass."
      ]
    },
    {
      "cell_type": "code",
      "execution_count": 10,
      "id": "fc42a717-e2d7-4f2c-922b-921d9d60702e",
      "metadata": {
        "tags": [],
        "id": "fc42a717-e2d7-4f2c-922b-921d9d60702e"
      },
      "outputs": [],
      "source": [
        "class LRClassifier:\n",
        "    def __init__(self, n_attributes, lr=0.1):\n",
        "        # init weights and biases\n",
        "        self.w = np.random.randn(n_attributes)\n",
        "        self.b = np.random.randn()\n",
        "        self.lr = lr\n",
        "    \n",
        "    def forward(self, x):\n",
        "        z = np.matmul(x, self.w) + self.b\n",
        "        a = sigmoid(z)\n",
        "        return a\n",
        "    \n",
        "    def __call__(self, x):\n",
        "        return self.forward(x)\n",
        "\n",
        "    def train_step(self, x_single, y_single):\n",
        "        # handlesgradient descent\n",
        "\n",
        "        # get classifier output\n",
        "        y_hat= self.forward(x_single)\n",
        "        \n",
        "        # get loss\n",
        "        loss = log_loss(y_hat, y_single)\n",
        "        \n",
        "        # calculate and store gradient for weights and bias\n",
        "        w_gradients = (y_hat - y_single) * x_single\n",
        "        b_gradient = y_hat - y_single\n",
        "    \n",
        "        # update weights and bias\n",
        "        self.w -= self.lr * w_gradients\n",
        "        self.b -= self.lr * b_gradient\n",
        "        \n",
        "        return loss"
      ]
    },
    {
      "cell_type": "markdown",
      "id": "c55e64dc-49a1-4276-8693-13a7f569658b",
      "metadata": {
        "id": "c55e64dc-49a1-4276-8693-13a7f569658b"
      },
      "source": [
        "**Part 2**"
      ]
    },
    {
      "cell_type": "code",
      "source": [
        "def read_data(filename, val_size, test_size):\n",
        "    # this function was extended from sample code given in LoadDataset.ipynb\n",
        "    # Use pandas to read the CSV file as a dataframe\n",
        "    df = pd.read_csv(filename)\n",
        "\n",
        "    # The y values are those labelled 'Class': extract their values\n",
        "    y = df['Class'].values\n",
        "\n",
        "    # The x values are all other columns\n",
        "    del df['Class']   # drop the 'Class' column from the dataframe\n",
        "    X = df.values     # convert the remaining columns to a numpy array\n",
        "\n",
        "    # val_size = test_size = 0.15\n",
        "\n",
        "    n_train = int(X.shape[0] * (1 - val_size - test_size))\n",
        "    n_val = int(X.shape[0] * val_size)\n",
        "    n_test = int(X.shape[0] * test_size)\n",
        "\n",
        "    perm = np.random.permutation(X.shape[0])\n",
        "    X = X[perm]\n",
        "    y = y[perm]\n",
        "    X_train, X_val, X_test = X[:n_train], X[n_train:n_train+n_val], X[n_train+n_val:]\n",
        "    y_train, y_val, y_test = y[:n_train], y[n_train:n_train+n_val], y[n_train+n_val:]\n",
        "    \n",
        "    return (X_train, y_train), (X_val, y_val), (X_test, y_test)"
      ],
      "metadata": {
        "id": "Dgpqq9Xb_S8v"
      },
      "id": "Dgpqq9Xb_S8v",
      "execution_count": 11,
      "outputs": []
    },
    {
      "cell_type": "code",
      "source": [
        "# train logistic regression on blobs and circles dataset\n",
        "for filename in [blobs_fname, circles_fname]:\n",
        "    print(filename)\n",
        "    eval_inter = 1000\n",
        "    train_set, val_set, test_set = read_data(filename, val_size=0.15, test_size=0.15)\n",
        "    n_samples, n_attributes = train_set[0].shape\n",
        "    net = LRClassifier(n_attributes, lr=0.1)\n",
        "    # train logistic regression for 100 epochs\n",
        "    train_loss_list, val_loss_list = train(net, 10_000, train_set=train_set, val_set=val_set, evaluate_inter=eval_inter)\n",
        "    X_test, y_test = test_set\n",
        "    out = net(X_test)\n",
        "    preds = out > 0.5\n",
        "    test_acc = np.sum(np.squeeze(preds) == y_test)/X_test.shape[0]\n",
        "    print(f\"test accuracy: {test_acc:.4f}\")\n",
        "    print()"
      ],
      "metadata": {
        "colab": {
          "base_uri": "https://localhost:8080/"
        },
        "id": "wAfBRyrG-P8y",
        "outputId": "b4e65dd4-99d7-4b41-b3bc-09fb2a9022fb"
      },
      "id": "wAfBRyrG-P8y",
      "execution_count": 190,
      "outputs": [
        {
          "output_type": "stream",
          "name": "stdout",
          "text": [
            "/content/drive/MyDrive/Colab Notebooks/dl_assignment1/blobs300.csv\n",
            "starting training\n",
            "iter\ttrain loss\ttrain acc\tval loss\tval acc\n",
            "0     \t0.3043\t\t0.8667\t\t0.2724\t\t0.8667\n",
            "1000  \t0.0393\t\t0.9905\t\t0.0085\t\t1.0000\n",
            "2000  \t0.0247\t\t0.9905\t\t0.0065\t\t1.0000\n",
            "3000  \t0.0207\t\t0.9905\t\t0.0035\t\t1.0000\n",
            "4000  \t0.0181\t\t0.9905\t\t0.0038\t\t1.0000\n",
            "5000  \t0.0189\t\t1.0000\t\t0.0062\t\t1.0000\n",
            "6000  \t0.0146\t\t0.9952\t\t0.0021\t\t1.0000\n",
            "7000  \t0.0138\t\t1.0000\t\t0.0024\t\t1.0000\n",
            "8000  \t0.0126\t\t0.9952\t\t0.0014\t\t1.0000\n",
            "9000  \t0.0118\t\t1.0000\t\t0.0014\t\t1.0000\n",
            "test accuracy: 1.0000\n",
            "\n",
            "/content/drive/MyDrive/Colab Notebooks/dl_assignment1/circles600.csv\n",
            "starting training\n",
            "iter\ttrain loss\ttrain acc\tval loss\tval acc\n",
            "0     \t0.7955\t\t0.5286\t\t0.8527\t\t0.4444\n",
            "1000  \t0.7032\t\t0.6857\t\t0.7444\t\t0.6111\n",
            "2000  \t0.6999\t\t0.3619\t\t0.6877\t\t0.4444\n",
            "3000  \t0.7003\t\t0.6238\t\t0.7300\t\t0.5556\n",
            "4000  \t0.6994\t\t0.5286\t\t0.7327\t\t0.4444\n",
            "5000  \t0.6958\t\t0.6762\t\t0.6990\t\t0.6556\n",
            "6000  \t0.6928\t\t0.6833\t\t0.6988\t\t0.6000\n",
            "7000  \t0.6941\t\t0.6881\t\t0.7101\t\t0.6111\n",
            "8000  \t0.6986\t\t0.5286\t\t0.7338\t\t0.4444\n",
            "9000  \t0.6984\t\t0.5762\t\t0.7203\t\t0.4889\n",
            "test accuracy: 0.5778\n",
            "\n"
          ]
        }
      ]
    },
    {
      "cell_type": "markdown",
      "source": [
        "Logistic regression can easily solve the blobs dataset. It gets almost 100% train and val accuracy after 1000 iterations. This is because the blobs dataset is linearly separable.  \n",
        "Logistic regression struggles with the circles dataset. After 10,000 iterations it does no better than 50% which is as good as random guessing. It does get slightly better than 50% but not much. The circles dataset is not linearly separable."
      ],
      "metadata": {
        "id": "rSjIZ0iPAypQ"
      },
      "id": "rSjIZ0iPAypQ"
    },
    {
      "cell_type": "markdown",
      "id": "13bc8839-3fea-4541-830c-9cd7aae9b1f5",
      "metadata": {
        "id": "13bc8839-3fea-4541-830c-9cd7aae9b1f5"
      },
      "source": [
        "**Part 3**"
      ]
    },
    {
      "cell_type": "markdown",
      "source": [
        "A shallow neural network can be seen as an extension of logistic regression.  \n",
        "Whereas logistic regrssion consisted only of a single output node, a shallow neural network consists of a single layer of (multiple) hidden nodes and an output node. Each node has weights and a bias. For the first layer, each node multiplies its weight by the corresponding input attributes, sums this together, adds the bias and feeds it through a sigmoid activation function to produce the output for that node. The final node multiplies its weights by the corresponding outputs of the nodes in the previous layer, sums this together, adds the bias and sends this through a sigmoid activation function to produce the network output.  \n",
        "The training process is the same as for logistic regression except the gradients for the weights/biases in the hidden layer need to be calculated differently to the weights/biases in the output layer."
      ],
      "metadata": {
        "id": "kw6SYUCCEV0Q"
      },
      "id": "kw6SYUCCEV0Q"
    },
    {
      "cell_type": "code",
      "execution_count": 12,
      "id": "567d77d9-0fee-4a63-b7f7-82336a007e76",
      "metadata": {
        "id": "567d77d9-0fee-4a63-b7f7-82336a007e76"
      },
      "outputs": [],
      "source": [
        "def sigmoid_inverse(x):\n",
        "    # inverse of sigmoid function, useful when we need to calculate z from activation during the backward pass\n",
        "    return -np.log((1 / x) - 1)"
      ]
    },
    {
      "cell_type": "code",
      "execution_count": 13,
      "id": "f6df0042-0210-42a6-8aa3-54cf4f0af2a2",
      "metadata": {
        "tags": [],
        "id": "f6df0042-0210-42a6-8aa3-54cf4f0af2a2"
      },
      "outputs": [],
      "source": [
        "class ShallowNN:\n",
        "    def __init__(self, n_attributes, n_hidden_nodes, lr=0.1):\n",
        "        self.lr = lr\n",
        "        \n",
        "        # initialize weights\n",
        "        self.w_out = np.random.randn(1, n_hidden_nodes)\n",
        "        self.b_out = np.random.randn(1, 1)\n",
        "        self.w_hidden = np.random.randn(n_hidden_nodes, n_attributes)\n",
        "        self.b_hidden = np.random.randn(n_hidden_nodes, 1)\n",
        "        # a_hidden_cache stores the activations from the hidden layer because they are needed during backprop\n",
        "        self.a_hidden_cache = None    \n",
        "    \n",
        "    def forward(self, x):\n",
        "        # hidden layer\n",
        "        x = x.transpose()\n",
        "        z_hidden = np.matmul(self.w_hidden, x) + self.b_hidden\n",
        "        a_hidden = sigmoid(z_hidden)\n",
        "        # cache activation for later use in backprop\n",
        "        self.a_hidden_cache = a_hidden\n",
        "\n",
        "        # output layer\n",
        "        z_out = np.matmul(self.w_out, a_hidden) + self.b_out\n",
        "        a_out = sigmoid(z_out)\n",
        "        return a_out\n",
        "    \n",
        "    def __call__(self, x):\n",
        "        return self.forward(x)\n",
        "    \n",
        "    def train_step(self, x_single, y_single):\n",
        "        y_hat= self.forward(x_single.reshape(1, -1))\n",
        "        # get loss\n",
        "        loss = log_loss(y_hat, y_single)\n",
        "        \n",
        "        # -----gradients for output layer--------------\n",
        "        w_out_gradients = (y_hat - y_single) * self.a_hidden_cache.transpose()\n",
        "        b_out_gradient = y_hat - y_single\n",
        "        \n",
        "        self.w_out -= self.lr * w_out_gradients\n",
        "        self.b_out -= self.lr * b_out_gradient\n",
        "        \n",
        "        # -----gradients for hidden layer--------------\n",
        "        z = sigmoid_inverse(self.a_hidden_cache)\n",
        "        # dz[l] =         f'(z[l])                    *  sum (       dz[l+1]      *    W[l+1] )\n",
        "        # dz = (np.exp(-z) / np.square(1 + np.exp(-z))) * np.sum((y_hat - y_single) * self.w_out, axis=0, keepdims=True).transpose()\n",
        "        dz = (np.exp(-z) / np.square(1 + np.exp(-z))) * (y_hat - y_single) * self.w_out.transpose()\n",
        "        w_hidden_gradients = np.outer(dz, x_single)\n",
        "        b_hidden_gradient = dz\n",
        "        \n",
        "        self.w_hidden -= self.lr * w_hidden_gradients\n",
        "        self.b_hidden -= self.lr * b_hidden_gradient\n",
        "        \n",
        "        \n",
        "        return loss"
      ]
    },
    {
      "cell_type": "code",
      "source": [
        "# test shallow network on blobs and circles\n",
        "filename = blobs_fname \n",
        "\n",
        "print(\"blobs\")\n",
        "train_set, val_set, test_set = read_data(filename, val_size=0.15, test_size=0.15)\n",
        "n_samples, n_attributes = train_set[0].shape\n",
        "net = ShallowNN(n_attributes, n_hidden_nodes=5, lr=0.1)\n",
        "train_loss_list, val_loss_list = train(net, 10_000, train_set=train_set, val_set=val_set, evaluate_inter=1000)\n",
        "\n",
        "X_test, y_test = test_set\n",
        "out = net(X_test)\n",
        "preds = out > 0.5\n",
        "test_acc = np.sum(np.squeeze(preds) == y_test)/X_test.shape[0]\n",
        "print(f\"test accuracy: {test_acc:.4f}\")\n",
        "print()"
      ],
      "metadata": {
        "colab": {
          "base_uri": "https://localhost:8080/"
        },
        "id": "EijioBk2_qwy",
        "outputId": "a990387b-f97a-4def-a18a-19df8e446396"
      },
      "id": "EijioBk2_qwy",
      "execution_count": 205,
      "outputs": [
        {
          "output_type": "stream",
          "name": "stdout",
          "text": [
            "blobs\n",
            "starting training\n",
            "iter\ttrain loss\ttrain acc\tval loss\tval acc\n",
            "0     \t1.1287\t\t0.4762\t\t0.9968\t\t0.5556\n",
            "1000  \t0.0476\t\t0.9952\t\t0.0575\t\t0.9778\n",
            "2000  \t0.0261\t\t0.9952\t\t0.0435\t\t0.9778\n",
            "3000  \t0.0208\t\t1.0000\t\t0.0281\t\t0.9778\n",
            "4000  \t0.0159\t\t0.9952\t\t0.0357\t\t0.9778\n",
            "5000  \t0.0130\t\t0.9952\t\t0.0281\t\t0.9778\n",
            "6000  \t0.0112\t\t0.9952\t\t0.0237\t\t0.9778\n",
            "7000  \t0.0102\t\t0.9952\t\t0.0232\t\t0.9778\n",
            "8000  \t0.0089\t\t0.9952\t\t0.0197\t\t0.9778\n",
            "9000  \t0.0077\t\t0.9952\t\t0.0152\t\t1.0000\n",
            "test accuracy: 1.0000\n",
            "\n"
          ]
        }
      ]
    },
    {
      "cell_type": "markdown",
      "source": [
        "The shallow network works just as well as logistic regression. This result is expected"
      ],
      "metadata": {
        "id": "caOeInavGWOe"
      },
      "id": "caOeInavGWOe"
    },
    {
      "cell_type": "code",
      "source": [
        "filename = circles_fname\n",
        "train_set, val_set, test_set = read_data(filename, val_size=0.15, test_size=0.15)\n",
        "n_samples, n_attributes = train_set[0].shape\n",
        "for n_hidden_nodes in range(1, 5):\n",
        "    net = ShallowNN(n_attributes, n_hidden_nodes=n_hidden_nodes, lr=0.1)\n",
        "    print(f\"n hidden nodes = {n_hidden_nodes}\")\n",
        "    train_loss_list, val_loss_list = train(net, 10_000, train_set=train_set, val_set=val_set, evaluate_inter=9000)"
      ],
      "metadata": {
        "colab": {
          "base_uri": "https://localhost:8080/"
        },
        "id": "HipWxQhMGl9F",
        "outputId": "9a12a417-3fa9-403f-aa30-a65ee16b3b90"
      },
      "id": "HipWxQhMGl9F",
      "execution_count": 209,
      "outputs": [
        {
          "output_type": "stream",
          "name": "stdout",
          "text": [
            "n hidden nodes = 1\n",
            "starting training\n",
            "iter\ttrain loss\ttrain acc\tval loss\tval acc\n",
            "0     \t0.8574\t\t0.4976\t\t0.7952\t\t0.5556\n",
            "9000  \t0.6443\t\t0.6905\t\t0.6638\t\t0.6889\n",
            "18000 \t0.5762\t\t0.6905\t\t0.6168\t\t0.6889\n",
            "n hidden nodes = 2\n",
            "starting training\n",
            "iter\ttrain loss\ttrain acc\tval loss\tval acc\n",
            "0     \t0.8946\t\t0.5024\t\t0.9713\t\t0.4444\n",
            "9000  \t0.3881\t\t0.8690\t\t0.4144\t\t0.8556\n",
            "18000 \t0.4124\t\t0.8476\t\t0.4531\t\t0.8333\n",
            "n hidden nodes = 3\n",
            "starting training\n",
            "iter\ttrain loss\ttrain acc\tval loss\tval acc\n",
            "0     \t0.6865\t\t0.5024\t\t0.7006\t\t0.4444\n",
            "9000  \t0.0568\t\t0.9976\t\t0.0598\t\t1.0000\n",
            "18000 \t0.0218\t\t0.9976\t\t0.0213\t\t1.0000\n",
            "n hidden nodes = 4\n",
            "starting training\n",
            "iter\ttrain loss\ttrain acc\tval loss\tval acc\n",
            "0     \t0.7576\t\t0.4976\t\t0.7078\t\t0.5556\n",
            "9000  \t0.0600\t\t1.0000\t\t0.0645\t\t1.0000\n",
            "18000 \t0.0259\t\t0.9976\t\t0.0337\t\t0.9889\n"
          ]
        }
      ]
    },
    {
      "cell_type": "markdown",
      "source": [
        "The shallow network can easily solve the circles dataset with a few hidden nodes. From tuning the number of hidden nodes, it seems that 3 nodes is the minimum to achieve 100% accuracy."
      ],
      "metadata": {
        "id": "ZnwOjm0jJOla"
      },
      "id": "ZnwOjm0jJOla"
    },
    {
      "cell_type": "code",
      "source": [
        "filename = circles_fname\n",
        "print(\"blobs\")\n",
        "train_set, val_set, test_set = read_data(filename, val_size=0.15, test_size=0.15)\n",
        "n_samples, n_attributes = train_set[0].shape\n",
        "net = ShallowNN(n_attributes, n_hidden_nodes=3, lr=0.1)\n",
        "train_loss_list, val_loss_list = train(net, 10_000, train_set=train_set, val_set=val_set, evaluate_inter=1000, verbose=False)\n",
        "\n",
        "X_test, y_test = test_set\n",
        "out = net(X_test)\n",
        "preds = out > 0.5\n",
        "test_acc = np.sum(np.squeeze(preds) == y_test)/X_test.shape[0]\n",
        "print(f\"test_acc = {test_acc:.4f}\")"
      ],
      "metadata": {
        "colab": {
          "base_uri": "https://localhost:8080/"
        },
        "id": "aYE5Fw5gJGwJ",
        "outputId": "964a6d24-1841-4e93-9b20-9502cc082ab0"
      },
      "id": "aYE5Fw5gJGwJ",
      "execution_count": 211,
      "outputs": [
        {
          "output_type": "stream",
          "name": "stdout",
          "text": [
            "blobs\n",
            "test_acc = 0.9889\n"
          ]
        }
      ]
    },
    {
      "cell_type": "markdown",
      "source": [
        "**Part 4**"
      ],
      "metadata": {
        "id": "P45GCDl5KxMw"
      },
      "id": "P45GCDl5KxMw"
    },
    {
      "cell_type": "code",
      "execution_count": 14,
      "id": "927f270f-8a0e-4d2f-96aa-5d6ee6276188",
      "metadata": {
        "tags": [],
        "id": "927f270f-8a0e-4d2f-96aa-5d6ee6276188"
      },
      "outputs": [],
      "source": [
        "# load image data\n",
        "def load_cifar(train_val=False, test=False, val_proportion=0.1):\n",
        "    # loads cifar data (only bird and airplane classes)\n",
        "    # if train_val=True, combine data from all 5 batch files\n",
        "    # if test=True return data from test batch\n",
        "    assert(train_val != test)\n",
        "    if train_val:\n",
        "        filepaths = [\"/content/drive/MyDrive/Colab Notebooks/dl_assignment1/cifar-10-batches-py/data_batch_1\",\n",
        "                     \"/content/drive/MyDrive/Colab Notebooks/dl_assignment1/cifar-10-batches-py/data_batch_2\",\n",
        "                     \"/content/drive/MyDrive/Colab Notebooks/dl_assignment1/cifar-10-batches-py/data_batch_3\",\n",
        "                     \"/content/drive/MyDrive/Colab Notebooks/dl_assignment1/cifar-10-batches-py/data_batch_4\",\n",
        "                     \"/content/drive/MyDrive/Colab Notebooks/dl_assignment1/cifar-10-batches-py/data_batch_5\",\n",
        "                     ]\n",
        "    elif test:\n",
        "        filepaths = [\"/content/drive/MyDrive/Colab Notebooks/dl_assignment1/cifar-10-batches-py/test_batch\"]\n",
        "    else:\n",
        "        raise Exception\n",
        "    # accumulated data/labels \n",
        "    acc_data = np.empty(0)\n",
        "    acc_labels = np.empty(0)\n",
        "    for filepath in filepaths:\n",
        "        with open(filepath, \"rb\") as f:\n",
        "            # load data from pickle file\n",
        "            images_dict = pickle.load(f, encoding=\"bytes\")\n",
        "            all_data = images_dict[b'data']\n",
        "            all_labels = images_dict[b'labels']\n",
        "            \n",
        "        # get idxs of images and labels for bird and plane classes only\n",
        "        idxs = []\n",
        "        for i, label in enumerate(all_labels):\n",
        "            if label == 0 or label == 2:\n",
        "                idxs.append(i)\n",
        "        \n",
        "        if len(acc_data) <= 0:\n",
        "            acc_data = all_data[idxs]\n",
        "            acc_labels = np.array(all_labels)[idxs]\n",
        "        else:\n",
        "            acc_data = np.concatenate((acc_data, all_data[idxs]), axis=0)\n",
        "            acc_labels = np.concatenate((acc_labels, np.array(all_labels)[idxs]), axis=0)\n",
        "\n",
        "\n",
        "    # convert labels to 0 and 1\n",
        "    acc_labels = (acc_labels > 0).astype(np.int32)\n",
        "    # convert rgb images to grayscale (average over 3 colour channels)\n",
        "    acc_data = acc_data.reshape(acc_data.shape[0], 3, 32, 32)\n",
        "    acc_data = np.mean(acc_data, axis=1)\n",
        "    acc_data = acc_data.reshape(acc_data.shape[0], -1)\n",
        "    # normalize the data to range [0, 1]\n",
        "    acc_data /= 255\n",
        "    perm = np.random.permutation(acc_data.shape[0])\n",
        "    if train_val:\n",
        "        # randomly shuffle data if train_val=True\n",
        "        acc_data = acc_data[perm]\n",
        "        acc_labels = acc_labels[perm]\n",
        "\n",
        "        # split data into train and val sets\n",
        "        n_val = int(acc_data.shape[0] * val_proportion)\n",
        "        train_set = (acc_data[n_val:], acc_labels[n_val:])\n",
        "        val_set = (acc_data[:n_val], acc_labels[:n_val])\n",
        "        return train_set, val_set\n",
        "    else:\n",
        "        return acc_data, acc_labels"
      ]
    },
    {
      "cell_type": "code",
      "source": [
        "train_set, val_set = load_cifar(train_val=True, val_proportion=0.1)\n",
        "test_set = load_cifar(test=True)\n",
        "for n_hidden_nodes in [10, 128, 512]:\n",
        "    print(f\"n hidden nodes: {n_hidden_nodes}\")\n",
        "    n_samples, n_attributes = train_set[0].shape\n",
        "    net = ShallowNN(n_attributes, n_hidden_nodes=n_hidden_nodes, lr=0.1)\n",
        "    train_loss_list, val_loss_list = train(net, 100_000, train_set=train_set, val_set=val_set, evaluate_inter=10_000, verbose=True)\n",
        "    print()"
      ],
      "metadata": {
        "colab": {
          "base_uri": "https://localhost:8080/"
        },
        "id": "70Q7zUO_PER4",
        "outputId": "2b1a3840-c872-4f8a-b14c-dbb0b3726f48"
      },
      "id": "70Q7zUO_PER4",
      "execution_count": 229,
      "outputs": [
        {
          "output_type": "stream",
          "name": "stdout",
          "text": [
            "n hidden nodes: 10\n",
            "starting training\n",
            "iter\ttrain loss\ttrain acc\tval loss\tval acc\n",
            "0     \t0.7107\t\t0.5359\t\t0.7198\t\t0.5190\n",
            "10000 \t0.6677\t\t0.6027\t\t0.6750\t\t0.5980\n",
            "20000 \t0.6554\t\t0.6133\t\t0.6576\t\t0.6080\n",
            "30000 \t0.6545\t\t0.5780\t\t0.6712\t\t0.5610\n",
            "40000 \t0.6851\t\t0.5663\t\t0.6943\t\t0.5490\n",
            "50000 \t0.7758\t\t0.5142\t\t0.7793\t\t0.5180\n",
            "60000 \t0.7163\t\t0.5888\t\t0.7226\t\t0.5850\n",
            "70000 \t0.7534\t\t0.5918\t\t0.7599\t\t0.5800\n",
            "80000 \t0.6444\t\t0.6420\t\t0.6612\t\t0.6310\n",
            "90000 \t0.6227\t\t0.6540\t\t0.6413\t\t0.6420\n",
            "\n",
            "n hidden nodes: 128\n",
            "starting training\n",
            "iter\ttrain loss\ttrain acc\tval loss\tval acc\n",
            "0     \t3.8229\t\t0.5003\t\t3.7808\t\t0.5010\n",
            "10000 \t0.7383\t\t0.5883\t\t0.7647\t\t0.5760\n",
            "20000 \t1.7654\t\t0.5041\t\t1.8092\t\t0.5020\n",
            "30000 \t1.0483\t\t0.5096\t\t1.0547\t\t0.5100\n",
            "40000 \t1.7501\t\t0.5012\t\t1.7611\t\t0.5010\n",
            "50000 \t1.5551\t\t0.5114\t\t1.5187\t\t0.5040\n",
            "60000 \t1.2620\t\t0.5257\t\t1.2929\t\t0.5180\n",
            "70000 \t1.0877\t\t0.5161\t\t1.1048\t\t0.5090\n",
            "80000 \t1.2249\t\t0.5689\t\t1.2575\t\t0.5580\n",
            "90000 \t1.3369\t\t0.5198\t\t1.3865\t\t0.5120\n",
            "\n",
            "n hidden nodes: 512\n",
            "starting training\n",
            "iter\ttrain loss\ttrain acc\tval loss\tval acc\n",
            "0     \t8.8056\t\t0.5000\t\t8.8598\t\t0.4970\n",
            "10000 \t8.3790\t\t0.5021\t\t8.3837\t\t0.5010\n",
            "20000 \t8.1968\t\t0.5038\t\t8.2372\t\t0.5030\n",
            "30000 \t3.1732\t\t0.5187\t\t3.2475\t\t0.5090\n",
            "40000 \t6.5200\t\t0.5033\t\t6.5282\t\t0.5030\n",
            "50000 \t6.6663\t\t0.5092\t\t6.7658\t\t0.5070\n",
            "60000 \t3.7610\t\t0.5259\t\t3.8647\t\t0.5200\n",
            "70000 \t5.8031\t\t0.5060\t\t5.8595\t\t0.5050\n",
            "80000 \t5.3053\t\t0.5056\t\t5.3364\t\t0.5050\n",
            "90000 \t4.3571\t\t0.5080\t\t4.4183\t\t0.5020\n",
            "\n"
          ]
        }
      ]
    },
    {
      "cell_type": "markdown",
      "source": [
        "From previous testing 0.1 seems like a good learning rate for SGD on this problem.  \n",
        "The shallow network does not perform well on the cifar data. Interestingly, from our limited hyperparameter tuning, the accuracy of the model seems to generally get lower as the number of hidden nodes increases. This may be that the wider networks need longer to train. In any case, these results are not statistically significant."
      ],
      "metadata": {
        "id": "5pqWfF6mawRS"
      },
      "id": "5pqWfF6mawRS"
    },
    {
      "cell_type": "code",
      "source": [
        "# retrain 10 node network and test on test set\n",
        "\n",
        "train_set, val_set = load_cifar(train_val=True, val_proportion=0.1)\n",
        "test_set = load_cifar(test=True)\n",
        "n_samples, n_attributes = train_set[0].shape\n",
        "net = ShallowNN(n_attributes, n_hidden_nodes=10, lr=0.1)\n",
        "train_loss_list, val_loss_list = train(net, 100_000, train_set=train_set, val_set=val_set, evaluate_inter=10_000, verbose=True)"
      ],
      "metadata": {
        "colab": {
          "base_uri": "https://localhost:8080/"
        },
        "id": "fpb0z6iMbQ8M",
        "outputId": "bd077b4d-8f08-4d0d-e006-be2cb88e3017"
      },
      "id": "fpb0z6iMbQ8M",
      "execution_count": 231,
      "outputs": [
        {
          "output_type": "stream",
          "name": "stdout",
          "text": [
            "starting training\n",
            "iter\ttrain loss\ttrain acc\tval loss\tval acc\n",
            "0     \t0.8743\t\t0.5019\t\t0.9004\t\t0.4810\n",
            "10000 \t0.6665\t\t0.5690\t\t0.6670\t\t0.5750\n",
            "20000 \t0.7859\t\t0.5891\t\t0.7796\t\t0.5910\n",
            "30000 \t0.6960\t\t0.5931\t\t0.6948\t\t0.5960\n",
            "40000 \t0.6992\t\t0.5081\t\t0.7147\t\t0.4830\n",
            "50000 \t0.7189\t\t0.5251\t\t0.7095\t\t0.5430\n",
            "60000 \t0.7206\t\t0.5572\t\t0.7149\t\t0.5650\n",
            "70000 \t0.7593\t\t0.5322\t\t0.7741\t\t0.5140\n",
            "80000 \t0.6843\t\t0.4986\t\t0.6847\t\t0.5210\n",
            "90000 \t0.6760\t\t0.5898\t\t0.6703\t\t0.5890\n"
          ]
        }
      ]
    },
    {
      "cell_type": "code",
      "source": [
        ""
      ],
      "metadata": {
        "id": "qIi_cUGngqV4"
      },
      "id": "qIi_cUGngqV4",
      "execution_count": 15,
      "outputs": []
    },
    {
      "cell_type": "code",
      "source": [
        "X_test, y_test = test_set\n",
        "out = net(X_test)\n",
        "preds = out > 0.5\n",
        "test_acc = np.sum(np.squeeze(preds) == y_test)/X_test.shape[0]\n",
        "print(f\"test_acc = {test_acc:.4f}\")"
      ],
      "metadata": {
        "colab": {
          "base_uri": "https://localhost:8080/"
        },
        "id": "DBdNFDjVba6J",
        "outputId": "96525a99-7ea8-48f8-f165-a50ed5a63659"
      },
      "id": "DBdNFDjVba6J",
      "execution_count": 232,
      "outputs": [
        {
          "output_type": "stream",
          "name": "stdout",
          "text": [
            "test_acc = 0.5970\n"
          ]
        }
      ]
    },
    {
      "cell_type": "markdown",
      "source": [
        "The shallow net gets nearly 60% on the train set, which is quite good considering that it only has 10 hidden nodes."
      ],
      "metadata": {
        "id": "9OFMRo6BXxz6"
      },
      "id": "9OFMRo6BXxz6"
    },
    {
      "cell_type": "markdown",
      "id": "af13c64b-89e7-472f-89cf-e787620f92fb",
      "metadata": {
        "id": "af13c64b-89e7-472f-89cf-e787620f92fb"
      },
      "source": [
        "**Part 5**"
      ]
    },
    {
      "cell_type": "markdown",
      "source": [
        "The extensions I implemented are  \n",
        "    1: arbitrary number of layers  \n",
        "    2: Adam optimization   \n",
        "\n",
        "A Deep neural network is like a shallow neural network but with more hidden layers. The first hidden layer takes the independent variables as input (attributes of training example). The second hidden layer takes the outputs from the first hidden layer as input and so on until the output layer.  \n",
        "  \n",
        "Adam is an optimization algorithm which combines the concepts from Momentum and RMSProp. We store an exponential moving of the weight gradients (V) and an exponential moving average of the square of the weight gradients (S). Both V and S are initialized to 0. V can be thought of as the momentum of gradients and S can be thought of as the accelleration. For each iteration, the weight gradients are calculated as usual. Then V and S are updated according to hyperparameters beta1 and beta2 as can be seen in the code for DeepNN. Then VC and SC are calculated as can be seen in the code. VC and SC are bias corrected versions of V and S respectively. In SGD we update the weights according to the learning rate and the gradients. In Adam we update the weights according to the learning rate, VC and SC.\n",
        "  \n",
        "I also used relu activation function for all hidden layers."
      ],
      "metadata": {
        "id": "gtMU9NuoPL_O"
      },
      "id": "gtMU9NuoPL_O"
    },
    {
      "cell_type": "code",
      "execution_count": 16,
      "id": "2025a085-a854-4463-a58f-68cd3f818a38",
      "metadata": {
        "id": "2025a085-a854-4463-a58f-68cd3f818a38"
      },
      "outputs": [],
      "source": [
        "def relu(x):\n",
        "    return (x > 0) * x"
      ]
    },
    {
      "cell_type": "code",
      "execution_count": 17,
      "id": "4b0d32c8-7334-46ce-b296-81c88477f5c9",
      "metadata": {
        "tags": [],
        "id": "4b0d32c8-7334-46ce-b296-81c88477f5c9"
      },
      "outputs": [],
      "source": [
        "epsilon = 1e-8\n",
        "\n",
        "class DeepNN:\n",
        "    def __init__(self, n_attributes, hidden_layer_sizes = (100,), lr=0.001, beta1=0.9, beta2=0.999):\n",
        "        # store optimization parameters\n",
        "        self.lr = lr\n",
        "        self.beta1 = beta1\n",
        "        self.beta2 = beta2\n",
        "        self.iter_counter = 0\n",
        "        self.weights = []\n",
        "        self.biases = []\n",
        "        self.a_cache = []\n",
        "        self.num_layers = len(hidden_layer_sizes) + 1\n",
        "        layer_sizes = [n_attributes] + hidden_layer_sizes\n",
        "        self.layer_sizes = layer_sizes\n",
        "        # initialize weights for each hidden layer\n",
        "        for i in range(len(layer_sizes) - 1):\n",
        "            # store the weights and biases for each layer in a list\n",
        "            n_prev_nodes = layer_sizes[i]\n",
        "            n_curr_nodes = layer_sizes[i + 1]\n",
        "            # random weight initialization. Values are scaled down according to the size of the matrix\n",
        "            self.weights.append(np.random.randn(n_curr_nodes, n_prev_nodes) / np.sqrt(n_curr_nodes + n_prev_nodes))\n",
        "            self.biases.append(np.random.randn(n_curr_nodes, 1))\n",
        "        \n",
        "        # weight initialization for output layer\n",
        "        self.weights.append(np.random.randn(1, layer_sizes[-1]) / np.sqrt(layer_sizes[-1]))\n",
        "        self.biases.append(np.random.randn(1, 1))\n",
        "        \n",
        "        # initialize V and S values for Adam optimization\n",
        "        self.w_v = [None for _ in range(self.num_layers)]\n",
        "        self.b_v = [None for _ in range(self.num_layers)]\n",
        "        self.w_s = [None for _ in range(self.num_layers)]\n",
        "        self.b_s = [None for _ in range(self.num_layers)]\n",
        "        for l in range(self.num_layers):\n",
        "            self.w_v[l] = np.zeros_like(self.weights[l])\n",
        "            self.b_v[l] = np.zeros_like(self.biases[l])\n",
        "            self.w_s[l] = np.zeros_like(self.weights[l])\n",
        "            self.b_s[l] = np.zeros_like(self.biases[l])\n",
        "    \n",
        "    def forward(self, x):\n",
        "        a = x.transpose()\n",
        "        self.a_cache = []\n",
        "        for l, (w, b) in enumerate(zip(self.weights[:-1], self.biases[:-1])):\n",
        "            z = np.matmul(w, a) + b\n",
        "            a = relu(z)\n",
        "            self.a_cache.append(a)\n",
        "        \n",
        "        z = np.matmul(self.weights[-1], a) + self.biases[-1]\n",
        "        a = sigmoid(z)\n",
        "        self.a_cache.append(a)\n",
        "\n",
        "        self.a_cache.append(x.transpose())\n",
        "        return a.transpose().squeeze()\n",
        "    \n",
        "    def __call__(self, x):\n",
        "        return self.forward(x)\n",
        "\n",
        "    def train_step(self, x_single, y_single):\n",
        "        y_hat = self(x_single.reshape(1, -1))\n",
        "        # get loss\n",
        "        loss = log_loss(y_hat, y_single)\n",
        "        \n",
        "        z_gradients = [None for _ in range(self.num_layers)]\n",
        "        w_gradients = [None for _ in range(self.num_layers)]\n",
        "        b_gradients = [None for _ in range(self.num_layers)]\n",
        "        \n",
        "        # calculate gradient for output layer\n",
        "        L = self.num_layers - 1\n",
        "        prev_a = self.a_cache[L - 1]\n",
        "        # {}\n",
        "        z_grad = (y_hat - y_single)\n",
        "        w_grad = z_grad * prev_a.transpose()\n",
        "        b_grad = z_grad\n",
        "        \n",
        "        z_gradients[L] = z_grad\n",
        "        w_gradients[L] = w_grad\n",
        "        b_gradients[L] = b_grad\n",
        "        \n",
        "        \n",
        "        # calculate gradients for all other hidden layers\n",
        "        for l in reversed(range(self.num_layers - 1)):\n",
        "            \n",
        "            prev_a = self.a_cache[l - 1]\n",
        "            curr_a = self.a_cache[l]\n",
        "            next_w = self.weights[l + 1]\n",
        "            \n",
        "            # -----gradients for hidden layer--------------\n",
        "            z_grad = (curr_a > 0) * np.sum(z_gradients[l + 1] * next_w, axis=0, keepdims=True).transpose()\n",
        "            w_grad = np.outer(z_grad, prev_a)\n",
        "            b_grad = z_grad\n",
        "            \n",
        "            z_gradients[l] = z_grad\n",
        "            w_gradients[l] = w_grad\n",
        "            b_gradients[l] = b_grad\n",
        "        \n",
        "        \n",
        "        # update V and S\n",
        "        for l in range(self.num_layers):\n",
        "            self.w_v[l] = (1 - self.beta1) * w_gradients[l] + self.beta1 * self.w_v[l]\n",
        "            self.b_v[l] = (1 - self.beta1) * b_gradients[l] + self.beta1 * self.b_v[l]\n",
        "            \n",
        "            self.w_s[l] = (1 - self.beta2) * np.square(w_gradients[l]) + self.beta2 * self.w_s[l]\n",
        "            self.b_s[l] = (1 - self.beta2) * np.square(b_gradients[l]) + self.beta2 * self.b_s[l]\n",
        "            \n",
        "        \n",
        "        # update weights\n",
        "        for l in range(self.num_layers):\n",
        "            w_v_c = self.w_v[l] / (1 - np.power(self.beta1, self.iter_counter + 1))\n",
        "            b_v_c = self.b_v[l] / (1 - np.power(self.beta1, self.iter_counter + 1))\n",
        "            \n",
        "            w_s_c = self.w_s[l] / (1 - np.power(self.beta2, self.iter_counter + 1))\n",
        "            b_s_c = self.b_s[l] / (1 - np.power(self.beta2, self.iter_counter + 1))\n",
        "            \n",
        "            self.weights[l] = self.weights[l] - self.lr * (w_v_c / (np.sqrt(w_s_c) + epsilon))\n",
        "            self.biases[l] = self.biases[l] - self.lr * (b_v_c / (np.sqrt(b_s_c) + epsilon))\n",
        "            \n",
        "            self.iter_counter += 1\n",
        "        "
      ]
    },
    {
      "cell_type": "markdown",
      "source": [
        "Note: In the next 2 cells I rewrite code for DNN as well as the train function using cupy functions so that I could train on a GPU."
      ],
      "metadata": {
        "id": "aNglFI5kIBvg"
      },
      "id": "aNglFI5kIBvg"
    },
    {
      "cell_type": "code",
      "execution_count": 155,
      "metadata": {
        "tags": [],
        "id": "-eghPO7yInNf"
      },
      "outputs": [],
      "source": [
        "epsilon = 1e-8\n",
        "\n",
        "class CPDeepNN:\n",
        "    def __init__(self, n_attributes, hidden_layer_sizes = [100], lr=0.001, beta1=0.9, beta2=0.999):\n",
        "        self.lr = lr\n",
        "        self.beta1 = beta1\n",
        "        self.beta2 = beta2\n",
        "        self.iter_counter = 0\n",
        "        self.weights = []\n",
        "        self.biases = []\n",
        "        self.a_cache = []\n",
        "        self.num_layers = len(hidden_layer_sizes) + 1\n",
        "        layer_sizes = [n_attributes] + hidden_layer_sizes\n",
        "        # TODO watch out for this\n",
        "        self.layer_sizes = layer_sizes\n",
        "        # initialize weights for each hidden layer\n",
        "        for i in range(len(layer_sizes) - 1):\n",
        "            n_prev_nodes = layer_sizes[i]\n",
        "            n_curr_nodes = layer_sizes[i + 1]\n",
        "            # random weight initialization. Values are scaled down according to the size of the matrix\n",
        "            self.weights.append(cp.random.randn(n_curr_nodes, n_prev_nodes) / cp.sqrt(n_curr_nodes + n_prev_nodes))\n",
        "            self.biases.append(cp.random.randn(n_curr_nodes, 1))\n",
        "        \n",
        "        # weight initialization for output layer\n",
        "        self.weights.append(cp.random.randn(1, layer_sizes[-1]) / cp.sqrt(layer_sizes[-1]))\n",
        "        self.biases.append(cp.random.randn(1, 1))\n",
        "        \n",
        "        # initialize V and S values for Adam optimization\n",
        "        self.w_v = [None for _ in range(self.num_layers)]\n",
        "        self.b_v = [None for _ in range(self.num_layers)]\n",
        "        self.w_s = [None for _ in range(self.num_layers)]\n",
        "        self.b_s = [None for _ in range(self.num_layers)]\n",
        "        for l in range(self.num_layers):\n",
        "            self.w_v[l] = cp.zeros_like(self.weights[l])\n",
        "            self.b_v[l] = cp.zeros_like(self.biases[l])\n",
        "            self.w_s[l] = cp.zeros_like(self.weights[l])\n",
        "            self.b_s[l] = cp.zeros_like(self.biases[l])\n",
        "    \n",
        "    def forward(self, x):\n",
        "        a = x.transpose()\n",
        "        self.a_cache = []\n",
        "        for l, (w, b) in enumerate(zip(self.weights[:-1], self.biases[:-1])):\n",
        "            z = cp.matmul(w, a) + b\n",
        "            a = relu(z)\n",
        "            self.a_cache.append(a)\n",
        "        \n",
        "        z = cp.matmul(self.weights[-1], a) + self.biases[-1]\n",
        "        a = sigmoid(z)\n",
        "        self.a_cache.append(a)\n",
        "\n",
        "        # TODO maybe get rid of these copy\n",
        "        # TODO here the inputs are appended  to a cache so that indexing by layer=-1 will retrieve the inputs\n",
        "        self.a_cache.append(x.transpose())\n",
        "        return a.transpose().squeeze()\n",
        "    \n",
        "    def __call__(self, x):\n",
        "        return self.forward(x)\n",
        "\n",
        "    def train_step(self, x_single, y_single):\n",
        "\n",
        "        y_hat = self(x_single.reshape(1, -1))\n",
        "        # get loss\n",
        "        loss = log_loss(y_hat, y_single)\n",
        "        \n",
        "        z_gradients = [None for _ in range(self.num_layers)]\n",
        "        w_gradients = [None for _ in range(self.num_layers)]\n",
        "        b_gradients = [None for _ in range(self.num_layers)]\n",
        "        \n",
        "        # calculate gradient for output layer\n",
        "        L = self.num_layers - 1\n",
        "        prev_a = self.a_cache[L - 1]\n",
        "        # {}\n",
        "        z_grad = (y_hat - y_single)\n",
        "        w_grad = z_grad * prev_a.transpose()\n",
        "        b_grad = z_grad\n",
        "        \n",
        "        z_gradients[L] = z_grad\n",
        "        w_gradients[L] = w_grad\n",
        "        b_gradients[L] = b_grad\n",
        "        \n",
        "        \n",
        "        # calculate gradients for all other hidden layers\n",
        "        for l in reversed(range(self.num_layers - 1)):\n",
        "            \n",
        "            prev_a = self.a_cache[l - 1]\n",
        "            curr_a = self.a_cache[l]\n",
        "            next_w = self.weights[l + 1]\n",
        "            \n",
        "            # -----gradients for hidden layer--------------\n",
        "            z_grad = (curr_a > 0) * cp.sum(z_gradients[l + 1] * next_w, axis=0, keepdims=True).transpose()\n",
        "            w_grad = cp.outer(z_grad, prev_a)\n",
        "            b_grad = z_grad\n",
        "            \n",
        "            z_gradients[l] = z_grad\n",
        "            w_gradients[l] = w_grad\n",
        "            b_gradients[l] = b_grad\n",
        "        \n",
        "        \n",
        "        # update V and S\n",
        "        for l in range(self.num_layers):\n",
        "            self.w_v[l] = (1 - self.beta1) * w_gradients[l] + self.beta1 * self.w_v[l]\n",
        "            self.b_v[l] = (1 - self.beta1) * b_gradients[l] + self.beta1 * self.b_v[l]\n",
        "            \n",
        "            self.w_s[l] = (1 - self.beta2) * cp.square(w_gradients[l]) + self.beta2 * self.w_s[l]\n",
        "            self.b_s[l] = (1 - self.beta2) * cp.square(b_gradients[l]) + self.beta2 * self.b_s[l]\n",
        "            \n",
        "        \n",
        "        # update weights\n",
        "        for l in range(self.num_layers):\n",
        "            w_v_c = self.w_v[l] / (1 - cp.power(self.beta1, self.iter_counter + 1))\n",
        "            b_v_c = self.b_v[l] / (1 - cp.power(self.beta1, self.iter_counter + 1))\n",
        "            \n",
        "            w_s_c = self.w_s[l] / (1 - cp.power(self.beta2, self.iter_counter + 1))\n",
        "            b_s_c = self.b_s[l] / (1 - cp.power(self.beta2, self.iter_counter + 1))\n",
        "            \n",
        "            self.weights[l] = self.weights[l] - self.lr * (w_v_c / (cp.sqrt(w_s_c) + epsilon))\n",
        "            self.biases[l] = self.biases[l] - self.lr * (b_v_c / (cp.sqrt(b_s_c) + epsilon))\n",
        "            \n",
        "            self.iter_counter += 1\n",
        "        "
      ],
      "id": "-eghPO7yInNf"
    },
    {
      "cell_type": "code",
      "source": [
        "# function to handle training loop\n",
        "def train_cp(net, n_iter, train_set=None, val_set=None, evaluate_inter=1000, verbose=True):\n",
        "    if verbose:\n",
        "        print(\"starting training\")\n",
        "        print(f\"iter\\ttrain loss\\ttrain acc\\tval loss\\tval acc\")\n",
        "    # train logistic regression with SGD\n",
        "    X_train, y_train = train_set\n",
        "    X_train, y_train = cp.asarray(X_train), cp.asarray(y_train)\n",
        "    X_val = y_val = None\n",
        "    if val_set:\n",
        "        X_val, y_val = val_set\n",
        "    X_val, y_val = cp.asarray(X_val), cp.asarray(y_val)\n",
        "    train_loss_list = []\n",
        "    val_loss_list = []\n",
        "    n_samples = X_train.shape[0]\n",
        "    for iteration in range(n_iter):\n",
        "        # get random sample\n",
        "        sample_idx = np.random.choice(np.arange(n_samples))\n",
        "        # forward step\n",
        "        x_single, y_single = X_train[sample_idx], y_train[sample_idx]\n",
        "        # backward step\n",
        "        net.train_step(x_single, y_single)\n",
        "        \n",
        "        if iteration % evaluate_inter == 0:\n",
        "            # every set amount of iterations, compute loss and accuracy on train and val set\n",
        "            out = net(X_train)\n",
        "            train_loss = log_loss(out, y_train)\n",
        "            train_loss_list.append(train_loss.item())\n",
        "            preds = out > 0.5\n",
        "            train_acc = cp.sum(cp.squeeze(preds) == y_train)/X_train.shape[0]\n",
        "            val_loss = None\n",
        "            val_acc = None\n",
        "            # if val set is given, compute loss and accuracy on val set\n",
        "            if val_set:\n",
        "                # X_val, y_val = cp.asarray(X_val), cp.asarray(y_val)\n",
        "                out = net(X_val)\n",
        "                val_loss = log_loss(out, y_val)\n",
        "                preds = out > 0.5\n",
        "                val_acc = cp.sum(cp.squeeze(preds) == y_val)/X_val.shape[0]\n",
        "                val_loss_list.append(val_loss.item())\n",
        "                \n",
        "                if verbose:\n",
        "                    print(f\"{iteration:<6}\\t{train_loss:.4f}\\t\\t{train_acc:.4f}\\t\\t{val_loss:.4f}\\t\\t{val_acc:.4f}\")\n",
        "            elif verbose:\n",
        "                print(f\"{iteration:<6}\\t{train_loss:.4f}\\t\\t{train_acc:.4f}\")\n",
        "            \n",
        "    return train_loss_list, val_loss_list"
      ],
      "metadata": {
        "id": "QYvvqb43KeFN"
      },
      "id": "QYvvqb43KeFN",
      "execution_count": 240,
      "outputs": []
    },
    {
      "cell_type": "markdown",
      "source": [
        "From previous hyperparameter tuning I found that 0.0001 was a good learning rate for Adam.  "
      ],
      "metadata": {
        "id": "xhTotrAfcsQi"
      },
      "id": "xhTotrAfcsQi"
    },
    {
      "cell_type": "code",
      "source": [
        "net = CPDeepNN(n_attributes=train_set[0].shape[1], hidden_layer_sizes=[512, 256, 128], lr=0.0001)\n",
        "train_loss_list, val_loss_list = train_cp(net, n_iter=100_000, train_set=train_set, val_set=val_set, evaluate_inter=10_000, verbose=True)"
      ],
      "metadata": {
        "colab": {
          "base_uri": "https://localhost:8080/"
        },
        "id": "CG_jle4zJCNI",
        "outputId": "f34daed3-282d-493b-854c-0a09aa7d49b0"
      },
      "id": "CG_jle4zJCNI",
      "execution_count": 238,
      "outputs": [
        {
          "output_type": "stream",
          "name": "stdout",
          "text": [
            "starting training\n",
            "iter\ttrain loss\ttrain acc\tval loss\tval acc\n",
            "0     \t0.7740\t\t0.5023\t\t0.7940\t\t0.4790\n",
            "10000 \t0.6107\t\t0.6789\t\t0.6041\t\t0.6930\n",
            "20000 \t0.6106\t\t0.6602\t\t0.5951\t\t0.6790\n",
            "30000 \t0.5431\t\t0.7357\t\t0.5364\t\t0.7530\n",
            "40000 \t0.5474\t\t0.7188\t\t0.5376\t\t0.7280\n",
            "50000 \t0.5139\t\t0.7510\t\t0.5215\t\t0.7480\n",
            "60000 \t0.5248\t\t0.7349\t\t0.5371\t\t0.7290\n",
            "70000 \t0.4973\t\t0.7662\t\t0.5045\t\t0.7610\n",
            "80000 \t0.5381\t\t0.7290\t\t0.5613\t\t0.7180\n",
            "90000 \t0.4770\t\t0.7760\t\t0.4894\t\t0.7700\n"
          ]
        }
      ]
    },
    {
      "cell_type": "code",
      "source": [
        "horiz_x_values = [i for i in range(len(train_loss_list))]\n",
        "plt.plot(horiz_x_values, train_loss_list, label=\"train\")\n",
        "plt.plot(horiz_x_values, val_loss_list, label=\"val\")\n",
        "plt.title(\"Loss Plot\")\n",
        "plt.xlabel(\"iteration in 1000s\")\n",
        "plt.ylabel(\"loss\")\n",
        "plt.legend()"
      ],
      "metadata": {
        "colab": {
          "base_uri": "https://localhost:8080/",
          "height": 312
        },
        "id": "cukv2QZidHPg",
        "outputId": "0cd81558-f806-46a4-8cbd-47f573d87474"
      },
      "id": "cukv2QZidHPg",
      "execution_count": 242,
      "outputs": [
        {
          "output_type": "execute_result",
          "data": {
            "text/plain": [
              "<matplotlib.legend.Legend at 0x7fd73b63b690>"
            ]
          },
          "metadata": {},
          "execution_count": 242
        },
        {
          "output_type": "display_data",
          "data": {
            "image/png": "[encoded data removed]",
            "text/plain": [
              "<Figure size 432x288 with 1 Axes>"
            ]
          },
          "metadata": {
            "needs_background": "light"
          }
        }
      ]
    },
    {
      "cell_type": "code",
      "source": [
        "X_test, y_test = test_set\n",
        "out = net(X_test)\n",
        "preds = out > 0.5\n",
        "test_acc = np.sum(np.squeeze(preds) == y_test)/X_test.shape[0]\n",
        "print(f\"test_acc = {test_acc:.4f}\")"
      ],
      "metadata": {
        "colab": {
          "base_uri": "https://localhost:8080/"
        },
        "id": "YM740k1Vh2Rd",
        "outputId": "aea111a9-3c61-499f-dc35-b388c9cf6332"
      },
      "id": "YM740k1Vh2Rd",
      "execution_count": 25,
      "outputs": [
        {
          "output_type": "stream",
          "name": "stdout",
          "text": [
            "test_acc = 0.7485\n"
          ]
        }
      ]
    },
    {
      "cell_type": "markdown",
      "source": [
        "I think that 74% accuracy on the test set is quite an impressive result for a fully connected network. From the loss plot we can see that although the loss has plateaued somewhat, the network has not really overfitted and the loss is still trending downwards slightly so it could benefit from further training.  \n",
        "  \n",
        "From previous experiments (which I was not able to reproduce and print in this notebook due to google colab taking away my GPU), I found that making the network deeper and deeper did not seem to improve performance too much. I think the main imrprovement from part 3 to part 5 is the Adam optimization algorithm."
      ],
      "metadata": {
        "id": "wHoR752Virzm"
      },
      "id": "wHoR752Virzm"
    },
    {
      "cell_type": "code",
      "source": [
        ""
      ],
      "metadata": {
        "id": "NQO4S4KfjkwG"
      },
      "id": "NQO4S4KfjkwG",
      "execution_count": null,
      "outputs": []
    }
  ],
  "metadata": {
    "kernelspec": {
      "display_name": "Python 3 (ipykernel)",
      "language": "python",
      "name": "python3"
    },
    "language_info": {
      "codemirror_mode": {
        "name": "ipython",
        "version": 3
      },
      "file_extension": ".py",
      "mimetype": "text/x-python",
      "name": "python",
      "nbconvert_exporter": "python",
      "pygments_lexer": "ipython3",
      "version": "3.7.5"
    },
    "colab": {
      "name": "assignment1.ipynb",
      "provenance": []
    },
    "accelerator": "GPU"
  },
  "nbformat": 4,
  "nbformat_minor": 5
}